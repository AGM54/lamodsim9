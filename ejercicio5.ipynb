{
 "cells": [
  {
   "cell_type": "markdown",
   "metadata": {},
   "source": [
    "# Mersenne Twister"
   ]
  },
  {
   "cell_type": "code",
   "execution_count": 15,
   "metadata": {},
   "outputs": [],
   "source": [
    "import random\n",
    "import numpy as np\n",
    "import matplotlib.pyplot as plt\n",
    "from scipy.stats import kstest"
   ]
  },
  {
   "cell_type": "code",
   "execution_count": 24,
   "metadata": {},
   "outputs": [],
   "source": [
    "def mersenne_twister(seed, N):\n",
    "    random.seed(seed)\n",
    "    samples = [random.random() for i in range(N)]\n",
    "    return samples"
   ]
  },
  {
   "cell_type": "code",
   "execution_count": null,
   "metadata": {},
   "outputs": [],
   "source": [
    "seeds = [\n",
    "    1234, \n",
    "    7777, \n",
    "    9876\n",
    "] \n",
    "N = 1000 "
   ]
  },
  {
   "cell_type": "code",
   "execution_count": null,
   "metadata": {},
   "outputs": [
    {
     "name": "stdout",
     "output_type": "stream",
     "text": [
      "------------------------------------------------------------------------\n",
      "Parámetros intento 1\n",
      "Semilla = 1234\n",
      "Estadístico KS: 0.0314, p-valor: 0.2726\n",
      "No se puede rechazar la hipótesis de uniformidad\n",
      "------------------------------------------------------------------------\n",
      "Parámetros intento 2\n",
      "Semilla = 7777\n",
      "Estadístico KS: 0.0187, p-valor: 0.8673\n",
      "No se puede rechazar la hipótesis de uniformidad\n",
      "------------------------------------------------------------------------\n",
      "Parámetros intento 3\n",
      "Semilla = 9876\n",
      "Estadístico KS: 0.0261, p-valor: 0.4948\n",
      "No se puede rechazar la hipótesis de uniformidad\n"
     ]
    },
    {
     "name": "stderr",
     "output_type": "stream",
     "text": [
      "C:\\Users\\eunic\\AppData\\Local\\Temp\\ipykernel_30960\\1650169723.py:18: UserWarning: No artists with labels found to put in legend.  Note that artists whose label start with an underscore are ignored when legend() is called with no argument.\n",
      "  plt.legend()\n"
     ]
    },
    {
     "data": {
      "image/png": "[encoded data removed]",
      "text/plain": [
       "<Figure size 640x480 with 1 Axes>"
      ]
     },
     "metadata": {},
     "output_type": "display_data"
    }
   ],
   "source": [
    "for i, seed in enumerate(seeds):\n",
    "    samples = mersenne_twister(seed, N)\n",
    "    \n",
    "    ks_stat, p_value = kstest(samples, 'uniform')\n",
    "\n",
    "    print(\"------------------------------------------------------------------------\")\n",
    "    print(f\"Parámetros intento {i + 1}\")\n",
    "    print(f\"Semilla = {seed}\")\n",
    "    print(f\"Estadístico KS: {ks_stat:.4f}, p-valor: {p_value:.4f}\")\n",
    "    if p_value > 0.05:\n",
    "        print(\"No se puede rechazar la hipótesis de uniformidad\")\n",
    "    else:\n",
    "        print(\"Se rechaza la hipótesis de uniformidad\")\n",
    "    \n",
    "    plt.hist(samples, bins=30, alpha=0.5)\n",
    "\n",
    "plt.legend()\n",
    "plt.title(\"Distribuciones generadas con diferentes parámetros GLC\")\n",
    "plt.show()"
   ]
  }
 ],
 "metadata": {
  "kernelspec": {
   "display_name": "Python 3",
   "language": "python",
   "name": "python3"
  },
  "language_info": {
   "codemirror_mode": {
    "name": "ipython",
    "version": 3
   },
   "file_extension": ".py",
   "mimetype": "text/x-python",
   "name": "python",
   "nbconvert_exporter": "python",
   "pygments_lexer": "ipython3",
   "version": "3.12.4"
  }
 },
 "nbformat": 4,
 "nbformat_minor": 2
}
