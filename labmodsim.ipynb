{
 "cells": [
  {
   "cell_type": "code",
   "execution_count": null,
   "metadata": {},
   "outputs": [
    {
     "name": "stdout",
     "output_type": "stream",
     "text": [
      "Prueba de Chi Cuadrado:\n",
      "Estadístico Chi2: 38.4808679914494, p-valor: 1.428752310695591e-05\n",
      "Conclusión: Rechazamos la hipótesis nula, las muestras no tienen la misma distribución.\n",
      "\n",
      "Prueba de Kolmogorov-Smirnov:\n",
      "Estadístico KS: 0.037, p-valor: 0.5005673707894058\n",
      "Conclusión: No se rechaza la hipótesis nula, las muestras podrían provenir de la misma distribución.\n"
     ]
    }
   ],
   "source": [
    "import numpy as np\n",
    "from scipy.stats import geom, chisquare, kstest\n",
    "\n",
    "p = 0.5  # Probabilidad de éxito para la distribución geométrica\n",
    "N = 1000  # Tamaño de la muestra\n",
    "\n",
    "muestra_teorica = geom.rvs(p, size=N)\n",
    "\n",
    "\n",
    "# X = ceil(log(1-U) / log(1-p))\n",
    "U = np.random.uniform(0, 1, N)\n",
    "muestra_empirica = np.ceil(np.log(1 - U) / np.log(1 - p))\n",
    "\n",
    "# Prueba de Chi-Cuadrado\n",
    "valores, frec_teorica = np.unique(muestra_teorica, return_counts=True)\n",
    "_, frec_empirica = np.unique(muestra_empirica, return_counts=True)\n",
    "\n",
    "\n",
    "longitud_comun = max(len(frec_teorica), len(frec_empirica))\n",
    "frec_teorica = np.pad(frec_teorica, (0, longitud_comun - len(frec_teorica)), 'constant')\n",
    "frec_empirica = np.pad(frec_empirica, (0, longitud_comun - len(frec_empirica)), 'constant')\n",
    "\n",
    "chi2_stat, p_value_chi2 = chisquare(frec_empirica, f_exp=frec_teorica)\n",
    "\n",
    "# Prueba de Kolmogorov-Smirnov\n",
    "ks_stat, p_value_ks = kstest(muestra_empirica, muestra_teorica)\n",
    "\n",
    "print(\"Prueba de Chi Cuadrado:\")\n",
    "print(f\"Estadístico Chi2: {chi2_stat}, p-valor: {p_value_chi2}\")\n",
    "if p_value_chi2 < 0.05:\n",
    "    print(\"Conclusión: Rechazamos la hipótesis nula, las muestras no tienen la misma distribución.\")\n",
    "else:\n",
    "    print(\"Conclusión: No se rechaza la hipótesis nula, las muestras podrían tener la misma distribución.\")\n",
    "\n",
    "print(\"\\nPrueba de Kolmogorov-Smirnov:\")\n",
    "print(f\"Estadístico KS: {ks_stat}, p-valor: {p_value_ks}\")\n",
    "if p_value_ks < 0.05:\n",
    "    print(\"Conclusión: Rechazamos la hipótesis nula, las muestras no provienen de la misma distribución.\")\n",
    "else:\n",
    "    print(\"Conclusión: No se rechaza la hipótesis nula, las muestras podrían provenir de la misma distribución.\")\n"
   ]
  }
 ],
 "metadata": {
  "kernelspec": {
   "display_name": "Python 3",
   "language": "python",
   "name": "python3"
  },
  "language_info": {
   "codemirror_mode": {
    "name": "ipython",
    "version": 3
   },
   "file_extension": ".py",
   "mimetype": "text/x-python",
   "name": "python",
   "nbconvert_exporter": "python",
   "pygments_lexer": "ipython3",
   "version": "3.7.9"
  }
 },
 "nbformat": 4,
 "nbformat_minor": 2
}
